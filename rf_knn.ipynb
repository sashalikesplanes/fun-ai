{
 "cells": [
  {
   "cell_type": "markdown",
   "id": "c2c5fe3c-a7a5-4449-8722-7d80a7fb8e5d",
   "metadata": {},
   "source": [
    "Retry same exercise now with random forests, also implement a basic K nearest neighbor classifier to establish a baseline"
   ]
  },
  {
   "cell_type": "code",
   "execution_count": 1,
   "id": "6ff385be-e3b3-4138-b682-f81acc04f2e8",
   "metadata": {},
   "outputs": [],
   "source": [
    "from fastai.collab import *\n",
    "from fastai.tabular.all import *\n"
   ]
  },
  {
   "cell_type": "code",
   "execution_count": 2,
   "id": "03d2c2fe-476d-4fe3-b6fa-64e4956d3b96",
   "metadata": {},
   "outputs": [],
   "source": [
    "from sklearn.neighbors import KNeighborsClassifier\n",
    "from sklearn.ensemble import RandomForestClassifier"
   ]
  },
  {
   "cell_type": "code",
   "execution_count": 3,
   "id": "57f133b3-02ef-4161-975c-5408bb992a00",
   "metadata": {},
   "outputs": [],
   "source": [
    "path = Path.cwd()\n",
    "data_raw = pd.read_excel(path/'data'/'dataset.xls', header=None, \n",
    "                         usecols=[i for i in range(1, 151)])\n",
    "\n",
    "data_raw = data_raw.replace([99.], np.nan)\n",
    "data_raw[\"user_id\"] = [i for i in range(0, 54905)]\n",
    "data_raw = data_raw.drop([1, 2, 3, 4, 5, 6, 9, 10, 11, \n",
    "                          12, 14, 20, 27, 31, 43, 51, \n",
    "                          52, 61, 73, 80, 100, 116], axis=1)\n",
    "data_raw = data_raw.loc[data_raw.count(1).sort_values(ascending=False)[0:20000].index]"
   ]
  },
  {
   "cell_type": "code",
   "execution_count": 4,
   "id": "98ea5aba-4f61-4414-9720-c02e7deff9dd",
   "metadata": {},
   "outputs": [],
   "source": [
    "def normalize(s):\n",
    "    return (s - s.mean())/s.std()"
   ]
  },
  {
   "cell_type": "code",
   "execution_count": 5,
   "id": "1b1d3ebf-d0e5-4401-ad10-0ecd7b1f9f7b",
   "metadata": {},
   "outputs": [],
   "source": [
    "x_data_raw = data_raw.loc[:, [7, 8, 13, 15, 16, 17, 18, 19]]\n",
    "x_data = x_data_raw.apply(normalize, axis=1).dropna()"
   ]
  },
  {
   "cell_type": "code",
   "execution_count": 6,
   "id": "fc6f431d-2d66-4b30-b7d4-ad97bb0da1b2",
   "metadata": {},
   "outputs": [],
   "source": [
    "y_data_raw = data_raw.drop([7, 8, 13, 15, 16, 17, 18, 19, 'user_id'], axis=1)\n",
    "#y_data_raw.columns = [i for i in range(120)]\n",
    "y_data = pd.DataFrame(y_data_raw.idxmax(axis=1))"
   ]
  },
  {
   "cell_type": "code",
   "execution_count": 7,
   "id": "073d5409-ae4a-4d07-8952-032028124dc6",
   "metadata": {},
   "outputs": [],
   "source": [
    "data_final = x_data.join(y_data)"
   ]
  },
  {
   "cell_type": "code",
   "execution_count": 8,
   "id": "04530c2d-84b0-4e78-951a-a1a96396de6f",
   "metadata": {},
   "outputs": [
    {
     "data": {
      "text/html": [
       "<div>\n",
       "<style scoped>\n",
       "    .dataframe tbody tr th:only-of-type {\n",
       "        vertical-align: middle;\n",
       "    }\n",
       "\n",
       "    .dataframe tbody tr th {\n",
       "        vertical-align: top;\n",
       "    }\n",
       "\n",
       "    .dataframe thead th {\n",
       "        text-align: right;\n",
       "    }\n",
       "</style>\n",
       "<table border=\"1\" class=\"dataframe\">\n",
       "  <thead>\n",
       "    <tr style=\"text-align: right;\">\n",
       "      <th></th>\n",
       "      <th>7</th>\n",
       "      <th>8</th>\n",
       "      <th>13</th>\n",
       "      <th>15</th>\n",
       "      <th>16</th>\n",
       "      <th>17</th>\n",
       "      <th>18</th>\n",
       "      <th>19</th>\n",
       "      <th>0</th>\n",
       "    </tr>\n",
       "  </thead>\n",
       "  <tbody>\n",
       "    <tr>\n",
       "      <th>36827</th>\n",
       "      <td>0.946653</td>\n",
       "      <td>1.164901</td>\n",
       "      <td>-0.842985</td>\n",
       "      <td>-0.428313</td>\n",
       "      <td>-1.454081</td>\n",
       "      <td>0.291907</td>\n",
       "      <td>-0.733861</td>\n",
       "      <td>1.055777</td>\n",
       "      <td>77</td>\n",
       "    </tr>\n",
       "    <tr>\n",
       "      <th>4198</th>\n",
       "      <td>-1.207041</td>\n",
       "      <td>-0.241408</td>\n",
       "      <td>-0.840766</td>\n",
       "      <td>-1.140445</td>\n",
       "      <td>0.424545</td>\n",
       "      <td>0.890713</td>\n",
       "      <td>0.690927</td>\n",
       "      <td>1.423476</td>\n",
       "      <td>24</td>\n",
       "    </tr>\n",
       "    <tr>\n",
       "      <th>4222</th>\n",
       "      <td>1.027912</td>\n",
       "      <td>0.513956</td>\n",
       "      <td>0.000000</td>\n",
       "      <td>-1.027912</td>\n",
       "      <td>-1.798847</td>\n",
       "      <td>-0.256978</td>\n",
       "      <td>1.027912</td>\n",
       "      <td>0.513956</td>\n",
       "      <td>21</td>\n",
       "    </tr>\n",
       "    <tr>\n",
       "      <th>4220</th>\n",
       "      <td>-0.108972</td>\n",
       "      <td>-2.208597</td>\n",
       "      <td>0.775081</td>\n",
       "      <td>0.603182</td>\n",
       "      <td>0.701410</td>\n",
       "      <td>-0.305428</td>\n",
       "      <td>0.725967</td>\n",
       "      <td>-0.182643</td>\n",
       "      <td>56</td>\n",
       "    </tr>\n",
       "    <tr>\n",
       "      <th>37646</th>\n",
       "      <td>-1.334917</td>\n",
       "      <td>0.774282</td>\n",
       "      <td>-0.001515</td>\n",
       "      <td>0.798526</td>\n",
       "      <td>-1.371282</td>\n",
       "      <td>0.022728</td>\n",
       "      <td>1.416739</td>\n",
       "      <td>-0.304561</td>\n",
       "      <td>150</td>\n",
       "    </tr>\n",
       "    <tr>\n",
       "      <th>...</th>\n",
       "      <td>...</td>\n",
       "      <td>...</td>\n",
       "      <td>...</td>\n",
       "      <td>...</td>\n",
       "      <td>...</td>\n",
       "      <td>...</td>\n",
       "      <td>...</td>\n",
       "      <td>...</td>\n",
       "      <td>...</td>\n",
       "    </tr>\n",
       "    <tr>\n",
       "      <th>34888</th>\n",
       "      <td>0.548015</td>\n",
       "      <td>-1.704175</td>\n",
       "      <td>-0.523416</td>\n",
       "      <td>1.050931</td>\n",
       "      <td>-1.146594</td>\n",
       "      <td>0.405886</td>\n",
       "      <td>0.690143</td>\n",
       "      <td>0.679210</td>\n",
       "      <td>36</td>\n",
       "    </tr>\n",
       "    <tr>\n",
       "      <th>33398</th>\n",
       "      <td>-0.586850</td>\n",
       "      <td>-1.938866</td>\n",
       "      <td>1.148415</td>\n",
       "      <td>0.882271</td>\n",
       "      <td>-0.182309</td>\n",
       "      <td>-0.278121</td>\n",
       "      <td>0.137065</td>\n",
       "      <td>0.818396</td>\n",
       "      <td>114</td>\n",
       "    </tr>\n",
       "    <tr>\n",
       "      <th>34934</th>\n",
       "      <td>1.208923</td>\n",
       "      <td>0.337374</td>\n",
       "      <td>0.224916</td>\n",
       "      <td>0.309259</td>\n",
       "      <td>-1.237038</td>\n",
       "      <td>1.096465</td>\n",
       "      <td>-0.393603</td>\n",
       "      <td>-1.546297</td>\n",
       "      <td>106</td>\n",
       "    </tr>\n",
       "    <tr>\n",
       "      <th>44721</th>\n",
       "      <td>1.116489</td>\n",
       "      <td>-1.949691</td>\n",
       "      <td>-0.483257</td>\n",
       "      <td>-0.483257</td>\n",
       "      <td>-0.216632</td>\n",
       "      <td>0.716553</td>\n",
       "      <td>0.849865</td>\n",
       "      <td>0.449929</td>\n",
       "      <td>35</td>\n",
       "    </tr>\n",
       "    <tr>\n",
       "      <th>27639</th>\n",
       "      <td>1.272312</td>\n",
       "      <td>-1.010766</td>\n",
       "      <td>-1.032561</td>\n",
       "      <td>-0.460430</td>\n",
       "      <td>0.416839</td>\n",
       "      <td>0.994419</td>\n",
       "      <td>-1.065254</td>\n",
       "      <td>0.885442</td>\n",
       "      <td>62</td>\n",
       "    </tr>\n",
       "  </tbody>\n",
       "</table>\n",
       "<p>19977 rows × 9 columns</p>\n",
       "</div>"
      ],
      "text/plain": [
       "             7         8         13        15        16        17        18  \\\n",
       "36827  0.946653  1.164901 -0.842985 -0.428313 -1.454081  0.291907 -0.733861   \n",
       "4198  -1.207041 -0.241408 -0.840766 -1.140445  0.424545  0.890713  0.690927   \n",
       "4222   1.027912  0.513956  0.000000 -1.027912 -1.798847 -0.256978  1.027912   \n",
       "4220  -0.108972 -2.208597  0.775081  0.603182  0.701410 -0.305428  0.725967   \n",
       "37646 -1.334917  0.774282 -0.001515  0.798526 -1.371282  0.022728  1.416739   \n",
       "...         ...       ...       ...       ...       ...       ...       ...   \n",
       "34888  0.548015 -1.704175 -0.523416  1.050931 -1.146594  0.405886  0.690143   \n",
       "33398 -0.586850 -1.938866  1.148415  0.882271 -0.182309 -0.278121  0.137065   \n",
       "34934  1.208923  0.337374  0.224916  0.309259 -1.237038  1.096465 -0.393603   \n",
       "44721  1.116489 -1.949691 -0.483257 -0.483257 -0.216632  0.716553  0.849865   \n",
       "27639  1.272312 -1.010766 -1.032561 -0.460430  0.416839  0.994419 -1.065254   \n",
       "\n",
       "             19   0   \n",
       "36827  1.055777   77  \n",
       "4198   1.423476   24  \n",
       "4222   0.513956   21  \n",
       "4220  -0.182643   56  \n",
       "37646 -0.304561  150  \n",
       "...         ...  ...  \n",
       "34888  0.679210   36  \n",
       "33398  0.818396  114  \n",
       "34934 -1.546297  106  \n",
       "44721  0.449929   35  \n",
       "27639  0.885442   62  \n",
       "\n",
       "[19977 rows x 9 columns]"
      ]
     },
     "execution_count": 8,
     "metadata": {},
     "output_type": "execute_result"
    }
   ],
   "source": [
    "data_final"
   ]
  },
  {
   "cell_type": "code",
   "execution_count": 9,
   "id": "f7688df8-f069-42d2-a32e-7f45b585d7e5",
   "metadata": {},
   "outputs": [],
   "source": [
    "y_data = data_final[0]"
   ]
  },
  {
   "cell_type": "code",
   "execution_count": 10,
   "id": "bbc23586-5d65-4e28-9a5f-6dc43e37a374",
   "metadata": {},
   "outputs": [
    {
     "data": {
      "text/plain": [
       "\u001B[0;31mSignature:\u001B[0m \u001B[0mRandomSplitter\u001B[0m\u001B[0;34m(\u001B[0m\u001B[0mvalid_pct\u001B[0m\u001B[0;34m=\u001B[0m\u001B[0;36m0.2\u001B[0m\u001B[0;34m,\u001B[0m \u001B[0mseed\u001B[0m\u001B[0;34m=\u001B[0m\u001B[0;32mNone\u001B[0m\u001B[0;34m)\u001B[0m\u001B[0;34m\u001B[0m\u001B[0;34m\u001B[0m\u001B[0m\n",
       "\u001B[0;31mDocstring:\u001B[0m Create function that splits `items` between train/val with `valid_pct` randomly.\n",
       "\u001B[0;31mFile:\u001B[0m      /opt/conda/lib/python3.7/site-packages/fastai/data/transforms.py\n",
       "\u001B[0;31mType:\u001B[0m      function\n"
      ]
     },
     "metadata": {},
     "output_type": "display_data"
    }
   ],
   "source": [
    "split = RandomSplitter?"
   ]
  },
  {
   "cell_type": "code",
   "execution_count": null,
   "id": "96837d52-50f8-434d-a30f-f53d1538edf4",
   "metadata": {},
   "outputs": [],
   "source": [
    "split = RandomSplitter"
   ]
  },
  {
   "cell_type": "code",
   "execution_count": 11,
   "id": "d8dabce1-af03-48ca-b8e5-f952b5d8faa1",
   "metadata": {},
   "outputs": [
    {
     "data": {
      "text/html": [
       "<div>\n",
       "<style scoped>\n",
       "    .dataframe tbody tr th:only-of-type {\n",
       "        vertical-align: middle;\n",
       "    }\n",
       "\n",
       "    .dataframe tbody tr th {\n",
       "        vertical-align: top;\n",
       "    }\n",
       "\n",
       "    .dataframe thead th {\n",
       "        text-align: right;\n",
       "    }\n",
       "</style>\n",
       "<table border=\"1\" class=\"dataframe\">\n",
       "  <thead>\n",
       "    <tr style=\"text-align: right;\">\n",
       "      <th></th>\n",
       "      <th>7</th>\n",
       "      <th>8</th>\n",
       "      <th>13</th>\n",
       "      <th>15</th>\n",
       "      <th>16</th>\n",
       "      <th>17</th>\n",
       "      <th>18</th>\n",
       "      <th>19</th>\n",
       "    </tr>\n",
       "  </thead>\n",
       "  <tbody>\n",
       "    <tr>\n",
       "      <th>36827</th>\n",
       "      <td>0.946653</td>\n",
       "      <td>1.164901</td>\n",
       "      <td>-0.842985</td>\n",
       "      <td>-0.428313</td>\n",
       "      <td>-1.454081</td>\n",
       "      <td>0.291907</td>\n",
       "      <td>-0.733861</td>\n",
       "      <td>1.055777</td>\n",
       "    </tr>\n",
       "    <tr>\n",
       "      <th>4198</th>\n",
       "      <td>-1.207041</td>\n",
       "      <td>-0.241408</td>\n",
       "      <td>-0.840766</td>\n",
       "      <td>-1.140445</td>\n",
       "      <td>0.424545</td>\n",
       "      <td>0.890713</td>\n",
       "      <td>0.690927</td>\n",
       "      <td>1.423476</td>\n",
       "    </tr>\n",
       "  </tbody>\n",
       "</table>\n",
       "</div>"
      ],
      "text/plain": [
       "             7         8         13        15        16        17        18  \\\n",
       "36827  0.946653  1.164901 -0.842985 -0.428313 -1.454081  0.291907 -0.733861   \n",
       "4198  -1.207041 -0.241408 -0.840766 -1.140445  0.424545  0.890713  0.690927   \n",
       "\n",
       "             19  \n",
       "36827  1.055777  \n",
       "4198   1.423476  "
      ]
     },
     "execution_count": 11,
     "metadata": {},
     "output_type": "execute_result"
    }
   ],
   "source": [
    "x_data.loc[[36827, 4198],:]"
   ]
  },
  {
   "cell_type": "code",
   "execution_count": 12,
   "id": "d5dddd25-ca31-48ba-8700-d7642522d99a",
   "metadata": {},
   "outputs": [],
   "source": [
    "split = RandomSplitter()\n",
    "idx = split(y_data)\n",
    "train_x, valid_x = x_data.iloc[idx[0]], x_data.iloc[idx[1]]\n",
    "train_y, valid_y = y_data.iloc[idx[0]], y_data.iloc[idx[1]]"
   ]
  },
  {
   "cell_type": "code",
   "execution_count": 13,
   "id": "4d34d81e-b115-4fd5-a2ce-5f4bd38462a8",
   "metadata": {},
   "outputs": [
    {
     "data": {
      "text/plain": [
       "KNeighborsClassifier()"
      ]
     },
     "execution_count": 13,
     "metadata": {},
     "output_type": "execute_result"
    }
   ],
   "source": [
    "knn = KNeighborsClassifier()\n",
    "knn.fit(train_x, train_y)"
   ]
  },
  {
   "cell_type": "code",
   "execution_count": 14,
   "id": "63b053a5-e806-4912-9fbf-ec1066313ad7",
   "metadata": {},
   "outputs": [
    {
     "data": {
      "text/html": [
       "<div>\n",
       "<style scoped>\n",
       "    .dataframe tbody tr th:only-of-type {\n",
       "        vertical-align: middle;\n",
       "    }\n",
       "\n",
       "    .dataframe tbody tr th {\n",
       "        vertical-align: top;\n",
       "    }\n",
       "\n",
       "    .dataframe thead th {\n",
       "        text-align: right;\n",
       "    }\n",
       "</style>\n",
       "<table border=\"1\" class=\"dataframe\">\n",
       "  <thead>\n",
       "    <tr style=\"text-align: right;\">\n",
       "      <th></th>\n",
       "      <th>7</th>\n",
       "      <th>8</th>\n",
       "      <th>13</th>\n",
       "      <th>15</th>\n",
       "      <th>16</th>\n",
       "      <th>17</th>\n",
       "      <th>18</th>\n",
       "      <th>19</th>\n",
       "    </tr>\n",
       "  </thead>\n",
       "  <tbody>\n",
       "    <tr>\n",
       "      <th>15355</th>\n",
       "      <td>1.437862</td>\n",
       "      <td>-0.488460</td>\n",
       "      <td>-0.158234</td>\n",
       "      <td>-0.598536</td>\n",
       "      <td>1.658013</td>\n",
       "      <td>-0.103196</td>\n",
       "      <td>-0.983800</td>\n",
       "      <td>-0.763649</td>\n",
       "    </tr>\n",
       "    <tr>\n",
       "      <th>29032</th>\n",
       "      <td>-0.966767</td>\n",
       "      <td>-1.038601</td>\n",
       "      <td>1.387794</td>\n",
       "      <td>-0.200537</td>\n",
       "      <td>1.651186</td>\n",
       "      <td>-0.080813</td>\n",
       "      <td>-0.328242</td>\n",
       "      <td>-0.424021</td>\n",
       "    </tr>\n",
       "    <tr>\n",
       "      <th>25345</th>\n",
       "      <td>-0.247250</td>\n",
       "      <td>0.641174</td>\n",
       "      <td>-0.775276</td>\n",
       "      <td>-1.655319</td>\n",
       "      <td>0.322683</td>\n",
       "      <td>0.825564</td>\n",
       "      <td>1.445785</td>\n",
       "      <td>-0.557361</td>\n",
       "    </tr>\n",
       "    <tr>\n",
       "      <th>27593</th>\n",
       "      <td>-0.765420</td>\n",
       "      <td>0.787932</td>\n",
       "      <td>-0.709139</td>\n",
       "      <td>1.345113</td>\n",
       "      <td>-0.512156</td>\n",
       "      <td>-1.131245</td>\n",
       "      <td>1.345113</td>\n",
       "      <td>-0.360198</td>\n",
       "    </tr>\n",
       "    <tr>\n",
       "      <th>26554</th>\n",
       "      <td>-0.751986</td>\n",
       "      <td>-1.065262</td>\n",
       "      <td>-1.133791</td>\n",
       "      <td>0.447275</td>\n",
       "      <td>0.692023</td>\n",
       "      <td>0.780132</td>\n",
       "      <td>1.563322</td>\n",
       "      <td>-0.531713</td>\n",
       "    </tr>\n",
       "    <tr>\n",
       "      <th>...</th>\n",
       "      <td>...</td>\n",
       "      <td>...</td>\n",
       "      <td>...</td>\n",
       "      <td>...</td>\n",
       "      <td>...</td>\n",
       "      <td>...</td>\n",
       "      <td>...</td>\n",
       "      <td>...</td>\n",
       "    </tr>\n",
       "    <tr>\n",
       "      <th>4613</th>\n",
       "      <td>-0.822310</td>\n",
       "      <td>-0.750804</td>\n",
       "      <td>-0.758749</td>\n",
       "      <td>-0.615739</td>\n",
       "      <td>-0.385333</td>\n",
       "      <td>1.529416</td>\n",
       "      <td>1.489691</td>\n",
       "      <td>0.313828</td>\n",
       "    </tr>\n",
       "    <tr>\n",
       "      <th>23488</th>\n",
       "      <td>1.166993</td>\n",
       "      <td>0.935404</td>\n",
       "      <td>-0.092274</td>\n",
       "      <td>0.472225</td>\n",
       "      <td>-0.019902</td>\n",
       "      <td>-1.105477</td>\n",
       "      <td>-1.771297</td>\n",
       "      <td>0.414328</td>\n",
       "    </tr>\n",
       "    <tr>\n",
       "      <th>23727</th>\n",
       "      <td>-0.045849</td>\n",
       "      <td>2.214073</td>\n",
       "      <td>0.391937</td>\n",
       "      <td>-0.933253</td>\n",
       "      <td>-0.282490</td>\n",
       "      <td>-0.211498</td>\n",
       "      <td>-0.176002</td>\n",
       "      <td>-0.956918</td>\n",
       "    </tr>\n",
       "    <tr>\n",
       "      <th>5556</th>\n",
       "      <td>-0.709606</td>\n",
       "      <td>-0.671483</td>\n",
       "      <td>1.130690</td>\n",
       "      <td>-0.657620</td>\n",
       "      <td>-0.716537</td>\n",
       "      <td>-0.858632</td>\n",
       "      <td>1.262388</td>\n",
       "      <td>1.220799</td>\n",
       "    </tr>\n",
       "    <tr>\n",
       "      <th>18255</th>\n",
       "      <td>-0.586715</td>\n",
       "      <td>0.501271</td>\n",
       "      <td>0.985453</td>\n",
       "      <td>-0.341776</td>\n",
       "      <td>-0.860135</td>\n",
       "      <td>1.087985</td>\n",
       "      <td>-1.634826</td>\n",
       "      <td>0.848743</td>\n",
       "    </tr>\n",
       "  </tbody>\n",
       "</table>\n",
       "<p>3995 rows × 8 columns</p>\n",
       "</div>"
      ],
      "text/plain": [
       "             7         8         13        15        16        17        18  \\\n",
       "15355  1.437862 -0.488460 -0.158234 -0.598536  1.658013 -0.103196 -0.983800   \n",
       "29032 -0.966767 -1.038601  1.387794 -0.200537  1.651186 -0.080813 -0.328242   \n",
       "25345 -0.247250  0.641174 -0.775276 -1.655319  0.322683  0.825564  1.445785   \n",
       "27593 -0.765420  0.787932 -0.709139  1.345113 -0.512156 -1.131245  1.345113   \n",
       "26554 -0.751986 -1.065262 -1.133791  0.447275  0.692023  0.780132  1.563322   \n",
       "...         ...       ...       ...       ...       ...       ...       ...   \n",
       "4613  -0.822310 -0.750804 -0.758749 -0.615739 -0.385333  1.529416  1.489691   \n",
       "23488  1.166993  0.935404 -0.092274  0.472225 -0.019902 -1.105477 -1.771297   \n",
       "23727 -0.045849  2.214073  0.391937 -0.933253 -0.282490 -0.211498 -0.176002   \n",
       "5556  -0.709606 -0.671483  1.130690 -0.657620 -0.716537 -0.858632  1.262388   \n",
       "18255 -0.586715  0.501271  0.985453 -0.341776 -0.860135  1.087985 -1.634826   \n",
       "\n",
       "             19  \n",
       "15355 -0.763649  \n",
       "29032 -0.424021  \n",
       "25345 -0.557361  \n",
       "27593 -0.360198  \n",
       "26554 -0.531713  \n",
       "...         ...  \n",
       "4613   0.313828  \n",
       "23488  0.414328  \n",
       "23727 -0.956918  \n",
       "5556   1.220799  \n",
       "18255  0.848743  \n",
       "\n",
       "[3995 rows x 8 columns]"
      ]
     },
     "execution_count": 14,
     "metadata": {},
     "output_type": "execute_result"
    }
   ],
   "source": [
    "valid_x"
   ]
  },
  {
   "cell_type": "code",
   "execution_count": 15,
   "id": "95ec587f-14c9-40d8-a9f8-ce95c64ff63e",
   "metadata": {},
   "outputs": [
    {
     "data": {
      "text/plain": [
       "array([ 23,  29,  24, 119,  35,  41,  48,  32,  32,  28,  47,  48,  47,\n",
       "        32,  68,  32,  32,  25,  68,  29,  32,  25,  54,  35,  53,  41,\n",
       "        63, 127, 104,  56,  49,  40,  65,  63,  38,  29,  68, 127,  32,\n",
       "        21,  47,  32,  21,  23,  36,  50,  35,  21,  49,  66,  26,  32,\n",
       "        30,  48,  89,  48, 105,  32,  49,  32,  30,  35,  22, 138,  62,\n",
       "       126,  67,  29,  46,  46,  29,  28,  40,  28,  49,  23,  66, 119,\n",
       "        23,  42,  26,  50,  86,  28,  21,  35,  32,  35,  35,  22,  69,\n",
       "        53,  23,  32,  89,  21,  32, 114,  50,  32])"
      ]
     },
     "execution_count": 15,
     "metadata": {},
     "output_type": "execute_result"
    }
   ],
   "source": [
    "knn.predict(valid_x.iloc[0:100].to_numpy())"
   ]
  },
  {
   "cell_type": "code",
   "execution_count": 16,
   "id": "bc743414-e656-4f71-8b29-f0e3eff04f65",
   "metadata": {},
   "outputs": [
    {
     "data": {
      "text/plain": [
       "0.02553191489361702"
      ]
     },
     "execution_count": 16,
     "metadata": {},
     "output_type": "execute_result"
    }
   ],
   "source": [
    "def acc_calc(xs, y, model):\n",
    "    return (model.predict(xs) == y).mean()\n",
    "\n",
    "acc_calc(valid_x, valid_y, knn)"
   ]
  },
  {
   "cell_type": "markdown",
   "id": "300e4a3e-a6ce-4749-93ec-4b5c97cfe1da",
   "metadata": {},
   "source": [
    "Worse than neural network but still 2.5x better than random guessing"
   ]
  },
  {
   "cell_type": "code",
   "execution_count": 88,
   "id": "e805dcf9-774e-4462-80f1-14c35ea10d3f",
   "metadata": {},
   "outputs": [],
   "source": [
    "rf = RandomForestClassifier(min_samples_leaf=3, oob_score=True, n_jobs=-1, max_features=0.4)\n",
    "                            "
   ]
  },
  {
   "cell_type": "code",
   "execution_count": 89,
   "id": "126e0271-5435-42c1-a194-7d4222e92398",
   "metadata": {},
   "outputs": [
    {
     "data": {
      "text/plain": [
       "RandomForestClassifier(max_features=0.4, min_samples_leaf=3, n_jobs=-1,\n",
       "                       oob_score=True)"
      ]
     },
     "execution_count": 89,
     "metadata": {},
     "output_type": "execute_result"
    }
   ],
   "source": [
    "rf.fit(train_x, train_y)"
   ]
  },
  {
   "cell_type": "code",
   "execution_count": 90,
   "id": "19bff462-d3f4-49bc-9b34-3b0b9f15f8f7",
   "metadata": {},
   "outputs": [
    {
     "data": {
      "text/plain": [
       "0.033041301627033795"
      ]
     },
     "execution_count": 90,
     "metadata": {},
     "output_type": "execute_result"
    }
   ],
   "source": [
    "acc_calc(valid_x, valid_y, rf)"
   ]
  },
  {
   "cell_type": "markdown",
   "id": "6ac25b5d-d786-42ec-bc22-55638504d649",
   "metadata": {},
   "source": [
    "Now apply a basic hyper param sweep"
   ]
  },
  {
   "cell_type": "code",
   "execution_count": 104,
   "id": "36384f9e-dbf8-400d-8a2b-25814bef0c36",
   "metadata": {},
   "outputs": [
    {
     "name": "stdout",
     "output_type": "stream",
     "text": [
      "min samp: 29, max feat: 0.41594357087582357, acc: 0.04080100125156445\n",
      "min samp: 28, max feat: 0.36653779050214386, acc: 0.04230287859824781\n",
      "min samp: 30, max feat: 0.10333055067492461, acc: 0.04355444305381727\n",
      "min samp: 30, max feat: 0.5961449186003351, acc: 0.039799749687108886\n",
      "min samp: 28, max feat: 0.5019432007030107, acc: 0.03954943679599499\n",
      "min samp: 35, max feat: 0.20589830386129068, acc: 0.04630788485607009\n",
      "min samp: 32, max feat: 0.5897309655171985, acc: 0.04130162703379224\n",
      "min samp: 25, max feat: 0.3578346912186956, acc: 0.0425531914893617\n",
      "min samp: 36, max feat: 0.278232944741276, acc: 0.044806007509386736\n",
      "min samp: 28, max feat: 0.5952097477116376, acc: 0.042052565707133914\n",
      "min samp: 29, max feat: 0.46283537883372994, acc: 0.03879849812265332\n",
      "min samp: 39, max feat: 0.17092429868016798, acc: 0.04430538172715895\n",
      "min samp: 33, max feat: 0.3654489113115248, acc: 0.04230287859824781\n",
      "min samp: 28, max feat: 0.3413197144787051, acc: 0.04330413016270338\n",
      "min samp: 39, max feat: 0.5962716340377295, acc: 0.04130162703379224\n",
      "min samp: 35, max feat: 0.13346166327283646, acc: 0.04105131414267835\n",
      "min samp: 30, max feat: 0.11376979656410244, acc: 0.04630788485607009\n",
      "min samp: 28, max feat: 0.37182374411342234, acc: 0.04130162703379224\n",
      "min samp: 38, max feat: 0.5052504555779869, acc: 0.04505632040050062\n",
      "min samp: 32, max feat: 0.5023407958648688, acc: 0.04055068836045057\n"
     ]
    }
   ],
   "source": [
    "for min_samp, max_feat in zip(np.random.randint(25, 40, 20),\n",
    "                              np.random.default_rng().uniform(0.1, 0.6, 20)):\n",
    "    rf = RandomForestClassifier(min_samples_leaf=min_samp, n_jobs=-1, max_features=max_feat)\n",
    "    rf.fit(train_x, train_y)\n",
    "    print(f'min samp: {min_samp}, max feat: {max_feat}, acc: {acc_calc(valid_x, valid_y, rf)}')"
   ]
  },
  {
   "cell_type": "code",
   "execution_count": 17,
   "id": "d89f60ac-86d8-48b8-87da-fa7562a1147b",
   "metadata": {},
   "outputs": [
    {
     "data": {
      "text/plain": [
       "RandomForestClassifier(max_features=0.15, min_samples_leaf=35, n_jobs=-1)"
      ]
     },
     "execution_count": 17,
     "metadata": {},
     "output_type": "execute_result"
    }
   ],
   "source": [
    "rf = RandomForestClassifier(min_samples_leaf=35, n_jobs=-1, max_features=0.15)\n",
    "rf.fit(train_x, train_y)"
   ]
  },
  {
   "cell_type": "code",
   "execution_count": 18,
   "id": "f62c9f4c-536d-4d30-abc4-a9d442182c5d",
   "metadata": {},
   "outputs": [
    {
     "data": {
      "text/plain": [
       "0.03954943679599499"
      ]
     },
     "execution_count": 18,
     "metadata": {},
     "output_type": "execute_result"
    }
   ],
   "source": [
    "acc_calc(valid_x, valid_y, rf)"
   ]
  },
  {
   "cell_type": "markdown",
   "id": "fd43d17d-2bc3-49fe-899d-e17fb994dbfa",
   "metadata": {},
   "source": [
    "a tiny bit better than the neural netwrok which achieved maximum accuracy of 4.3%, now 5.5x better than random guessing"
   ]
  },
  {
   "cell_type": "markdown",
   "id": "a6319ce5-9549-4785-87f4-e3ce793ba726",
   "metadata": {},
   "source": [
    "I believe the extreme specificity of the task combined with a very subjective (possibly random) sense of humor found in people, leads me to conclude that for such a task Bayes error cannot be lesser than 90% and is probably even greater than that. Perhaps with a much bigger dataset better patterns can be uncovered with a deep neural network but such a dataset is lacking"
   ]
  },
  {
   "cell_type": "code",
   "execution_count": 21,
   "id": "57a8f760-b2d6-4b2b-b02f-b516d33c5ebd",
   "metadata": {},
   "outputs": [],
   "source": [
    "from joblib import dump, load"
   ]
  },
  {
   "cell_type": "code",
   "execution_count": 22,
   "id": "e45aca12-434c-4737-9798-fba4db6d0db9",
   "metadata": {},
   "outputs": [
    {
     "data": {
      "text/plain": [
       "['rf_model.pkl']"
      ]
     },
     "execution_count": 22,
     "metadata": {},
     "output_type": "execute_result"
    }
   ],
   "source": [
    "dump(rf, 'rf_model.pkl')"
   ]
  },
  {
   "cell_type": "code",
   "execution_count": null,
   "id": "cb785c2d-1bdb-4e62-b27d-1a869c31d836",
   "metadata": {},
   "outputs": [],
   "source": [
    "rf_model_pkl"
   ]
  },
  {
   "cell_type": "code",
   "execution_count": null,
   "id": "05e1e1aa-d405-4796-b9f6-b85c1e5f3782",
   "metadata": {},
   "outputs": [],
   "source": []
  }
 ],
 "metadata": {
  "environment": {
   "name": "pytorch-gpu.1-9.m81",
   "type": "gcloud",
   "uri": "gcr.io/deeplearning-platform-release/pytorch-gpu.1-9:m81"
  },
  "kernelspec": {
   "display_name": "Python [conda env:root] *",
   "language": "python",
   "name": "conda-root-py"
  },
  "language_info": {
   "codemirror_mode": {
    "name": "ipython",
    "version": 3
   },
   "file_extension": ".py",
   "mimetype": "text/x-python",
   "name": "python",
   "nbconvert_exporter": "python",
   "pygments_lexer": "ipython3",
   "version": "3.7.10"
  }
 },
 "nbformat": 4,
 "nbformat_minor": 5
}